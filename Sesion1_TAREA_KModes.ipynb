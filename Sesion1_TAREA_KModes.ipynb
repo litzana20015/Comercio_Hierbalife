{
  "nbformat": 4,
  "nbformat_minor": 0,
  "metadata": {
    "colab": {
      "name": "Sesion1_TAREA_KModes.ipynb",
      "provenance": [],
      "collapsed_sections": [],
      "include_colab_link": true
    },
    "kernelspec": {
      "name": "python3",
      "display_name": "Python 3"
    }
  },
  "cells": [
    {
      "cell_type": "markdown",
      "metadata": {
        "id": "view-in-github",
        "colab_type": "text"
      },
      "source": [
        "<a href=\"https://colab.research.google.com/github/litzana20015/Comercio_Hierbalife/blob/master/Sesion1_TAREA_KModes.ipynb\" target=\"_parent\"><img src=\"https://colab.research.google.com/assets/colab-badge.svg\" alt=\"Open In Colab\"/></a>"
      ]
    },
    {
      "cell_type": "code",
      "metadata": {
        "id": "0h2iHEF3hDMx",
        "colab_type": "code",
        "colab": {}
      },
      "source": [
        "\"CELDA N°1\"\n",
        "#Importar la librería pandas y renombrarlo como pd\n",
        "import pandas as pd\n",
        "\n"
      ],
      "execution_count": null,
      "outputs": []
    },
    {
      "cell_type": "markdown",
      "metadata": {
        "id": "0JvSYD75sMX7",
        "colab_type": "text"
      },
      "source": [
        "Para esta tarea usaremos una nueva librería de clusterización para **datos categóricos**. Para mayor detalle puede revisar el siguiente [enlace web](https://pypi.org/project/kmodes/)\n",
        "\n",
        "Además puede profundizar en el procedimiento paso a paso en el siguiente [videotutorial](https://www.youtube.com/watch?v=b39_vipRkUo)"
      ]
    },
    {
      "cell_type": "code",
      "metadata": {
        "id": "OVhLXDfChPgT",
        "colab_type": "code",
        "colab": {
          "base_uri": "https://localhost:8080/",
          "height": 153
        },
        "outputId": "d6033f1b-876f-41c6-e03d-f2058f2f0f54"
      },
      "source": [
        "\"CELDA N°2\"\n",
        "#Instalar kmodes\n",
        "!pip install kmodes"
      ],
      "execution_count": null,
      "outputs": [
        {
          "output_type": "stream",
          "text": [
            "Collecting kmodes\n",
            "  Downloading https://files.pythonhosted.org/packages/b2/55/d8ec1ae1f7e1e202a8a4184c6852a3ee993b202b0459672c699d0ac18fc8/kmodes-0.10.2-py2.py3-none-any.whl\n",
            "Requirement already satisfied: scikit-learn>=0.19.0 in /usr/local/lib/python3.6/dist-packages (from kmodes) (0.22.2.post1)\n",
            "Requirement already satisfied: joblib>=0.11 in /usr/local/lib/python3.6/dist-packages (from kmodes) (0.16.0)\n",
            "Requirement already satisfied: scipy>=0.13.3 in /usr/local/lib/python3.6/dist-packages (from kmodes) (1.4.1)\n",
            "Requirement already satisfied: numpy>=1.10.4 in /usr/local/lib/python3.6/dist-packages (from kmodes) (1.18.5)\n",
            "Installing collected packages: kmodes\n",
            "Successfully installed kmodes-0.10.2\n"
          ],
          "name": "stdout"
        }
      ]
    },
    {
      "cell_type": "code",
      "metadata": {
        "id": "cQ9MDdEKhcEU",
        "colab_type": "code",
        "colab": {}
      },
      "source": [
        "\"CELDA N°3\"\n",
        "#Importar la librería KModes\n",
        "from kmodes.kmodes import KModes"
      ],
      "execution_count": null,
      "outputs": []
    },
    {
      "cell_type": "code",
      "metadata": {
        "id": "MBLm9YsAhiT3",
        "colab_type": "code",
        "colab": {
          "base_uri": "https://localhost:8080/",
          "height": 204
        },
        "outputId": "3467a385-9bbd-4c52-c763-9d259535c90e"
      },
      "source": [
        "\"CELDA N°4\"\n",
        "#Utilizando pandas y read_csv leer los datos de la siguiente URL: \"https://raw.githubusercontent.com/javalpe/datasets/master/people.csv\"\n",
        "#Guardar los datos leidos en una variable data\n",
        "data=pd.read_csv (\"https://raw.githubusercontent.com/javalpe/datasets/master/people.csv\")\n",
        "data.head()\n",
        "\n"
      ],
      "execution_count": null,
      "outputs": [
        {
          "output_type": "execute_result",
          "data": {
            "text/html": [
              "<div>\n",
              "<style scoped>\n",
              "    .dataframe tbody tr th:only-of-type {\n",
              "        vertical-align: middle;\n",
              "    }\n",
              "\n",
              "    .dataframe tbody tr th {\n",
              "        vertical-align: top;\n",
              "    }\n",
              "\n",
              "    .dataframe thead th {\n",
              "        text-align: right;\n",
              "    }\n",
              "</style>\n",
              "<table border=\"1\" class=\"dataframe\">\n",
              "  <thead>\n",
              "    <tr style=\"text-align: right;\">\n",
              "      <th></th>\n",
              "      <th>SEXO</th>\n",
              "      <th>UNIVERSIDAD</th>\n",
              "      <th>PERFIL</th>\n",
              "      <th>CARRERA</th>\n",
              "      <th>POSICION</th>\n",
              "      <th>ESPECIALIZACION_DATA SCIENCE</th>\n",
              "      <th>DIA_PREFERIDO</th>\n",
              "    </tr>\n",
              "  </thead>\n",
              "  <tbody>\n",
              "    <tr>\n",
              "      <th>0</th>\n",
              "      <td>F</td>\n",
              "      <td>ULIMA</td>\n",
              "      <td>JOVEN</td>\n",
              "      <td>ADMINISTRACION</td>\n",
              "      <td>ANALISTA</td>\n",
              "      <td>NO</td>\n",
              "      <td>SABADO</td>\n",
              "    </tr>\n",
              "    <tr>\n",
              "      <th>1</th>\n",
              "      <td>M</td>\n",
              "      <td>OTROS</td>\n",
              "      <td>ADULTO</td>\n",
              "      <td>ADMINISTRACION</td>\n",
              "      <td>NaN</td>\n",
              "      <td>NO</td>\n",
              "      <td>VIERNES</td>\n",
              "    </tr>\n",
              "    <tr>\n",
              "      <th>2</th>\n",
              "      <td>M</td>\n",
              "      <td>OTROS</td>\n",
              "      <td>ADULTO</td>\n",
              "      <td>ADMINISTRACION</td>\n",
              "      <td>OTROS</td>\n",
              "      <td>NO</td>\n",
              "      <td>VIERNES</td>\n",
              "    </tr>\n",
              "    <tr>\n",
              "      <th>3</th>\n",
              "      <td>M</td>\n",
              "      <td>OTROS</td>\n",
              "      <td>ADULTO</td>\n",
              "      <td>ADMINISTRACION</td>\n",
              "      <td>OTROS</td>\n",
              "      <td>NO</td>\n",
              "      <td>VIERNES</td>\n",
              "    </tr>\n",
              "    <tr>\n",
              "      <th>4</th>\n",
              "      <td>F</td>\n",
              "      <td>SAN MARCOS</td>\n",
              "      <td>JOVEN</td>\n",
              "      <td>CIENCIAS PURAS</td>\n",
              "      <td>ESTUDIANTE</td>\n",
              "      <td>NO</td>\n",
              "      <td>SABADO</td>\n",
              "    </tr>\n",
              "  </tbody>\n",
              "</table>\n",
              "</div>"
            ],
            "text/plain": [
              "  SEXO UNIVERSIDAD  ... ESPECIALIZACION_DATA SCIENCE DIA_PREFERIDO\n",
              "0    F       ULIMA  ...                           NO        SABADO\n",
              "1    M       OTROS  ...                           NO       VIERNES\n",
              "2    M       OTROS  ...                           NO       VIERNES\n",
              "3    M       OTROS  ...                           NO       VIERNES\n",
              "4    F  SAN MARCOS  ...                           NO        SABADO\n",
              "\n",
              "[5 rows x 7 columns]"
            ]
          },
          "metadata": {
            "tags": []
          },
          "execution_count": 26
        }
      ]
    },
    {
      "cell_type": "code",
      "metadata": {
        "id": "cWX2m_hbiPT6",
        "colab_type": "code",
        "colab": {
          "base_uri": "https://localhost:8080/",
          "height": 68
        },
        "outputId": "5a38992d-0e52-4272-a249-9f9930ad909d"
      },
      "source": [
        "\"CELDA N°5\"\n",
        "#Mostrar los nombres de las columnas de data\n",
        "\n",
        "data.columns\n"
      ],
      "execution_count": null,
      "outputs": [
        {
          "output_type": "execute_result",
          "data": {
            "text/plain": [
              "Index(['SEXO', 'UNIVERSIDAD', 'PERFIL', 'CARRERA', 'POSICION',\n",
              "       'ESPECIALIZACION_DATA SCIENCE', 'DIA_PREFERIDO'],\n",
              "      dtype='object')"
            ]
          },
          "metadata": {
            "tags": []
          },
          "execution_count": 56
        }
      ]
    },
    {
      "cell_type": "code",
      "metadata": {
        "id": "ZTAa-jD_hq4J",
        "colab_type": "code",
        "colab": {
          "base_uri": "https://localhost:8080/",
          "height": 425
        },
        "outputId": "675eb237-7872-4155-b1cd-03cb3be1d75d"
      },
      "source": [
        "\"CELDA N°6\"\n",
        "#Mostrar los vacíos en las columnas con la funcion for... in data.columns\n",
        "\n",
        "\n",
        "for n in data.columns:\n",
        "  print(data[n])\n",
        "  if n == \"UNIVERSIDAD\":\n",
        "    break\n"
      ],
      "execution_count": null,
      "outputs": [
        {
          "output_type": "stream",
          "text": [
            "0      F\n",
            "1      M\n",
            "2      M\n",
            "3      M\n",
            "4      F\n",
            "      ..\n",
            "149    M\n",
            "150    F\n",
            "151    M\n",
            "152    M\n",
            "153    M\n",
            "Name: SEXO, Length: 154, dtype: object\n",
            "0           ULIMA\n",
            "1           OTROS\n",
            "2           OTROS\n",
            "3           OTROS\n",
            "4      SAN MARCOS\n",
            "          ...    \n",
            "149         OTROS\n",
            "150          PUCP\n",
            "151           UNI\n",
            "152         OTROS\n",
            "153    SAN MARCOS\n",
            "Name: UNIVERSIDAD, Length: 154, dtype: object\n"
          ],
          "name": "stdout"
        }
      ]
    },
    {
      "cell_type": "code",
      "metadata": {
        "id": "LG0BhbmXk02c",
        "colab_type": "code",
        "colab": {}
      },
      "source": [
        "\"CELDA N°7\"\n",
        "#Reemplazar los vacíos de las columnas con la mode utilizando mode()[0] -no olvidar inplace=True\n",
        "data.dropna(inplace=True)\n"
      ],
      "execution_count": null,
      "outputs": []
    },
    {
      "cell_type": "code",
      "metadata": {
        "id": "udgVabz8htsz",
        "colab_type": "code",
        "colab": {}
      },
      "source": [
        "\"CELDA N°8\"\n",
        "#Creamos el modelo km con los parámetros siguientes:\n",
        "\n",
        "km = KModes(n_clusters=4, init='Huang', n_init=5, verbose=1)\n"
      ],
      "execution_count": null,
      "outputs": []
    },
    {
      "cell_type": "code",
      "metadata": {
        "id": "tr8SfpR7h3QH",
        "colab_type": "code",
        "colab": {
          "base_uri": "https://localhost:8080/",
          "height": 459
        },
        "outputId": "1bf36613-a782-4168-9c06-53ca66d87a32"
      },
      "source": [
        "\"CELDA N°9\"\n",
        "#Obtenemos los cluster a partir de la data -sin vacíos\n",
        "clusters = km.fit_predict(data)"
      ],
      "execution_count": null,
      "outputs": [
        {
          "output_type": "stream",
          "text": [
            "Init: initializing centroids\n",
            "Init: initializing clusters\n",
            "Starting iterations...\n",
            "Run 1, iteration: 1/100, moves: 32, cost: 239.0\n",
            "Run 1, iteration: 2/100, moves: 8, cost: 239.0\n",
            "Init: initializing centroids\n",
            "Init: initializing clusters\n",
            "Starting iterations...\n",
            "Run 2, iteration: 1/100, moves: 34, cost: 238.0\n",
            "Run 2, iteration: 2/100, moves: 9, cost: 238.0\n",
            "Init: initializing centroids\n",
            "Init: initializing clusters\n",
            "Starting iterations...\n",
            "Run 3, iteration: 1/100, moves: 24, cost: 250.0\n",
            "Run 3, iteration: 2/100, moves: 10, cost: 250.0\n",
            "Init: initializing centroids\n",
            "Init: initializing clusters\n",
            "Starting iterations...\n",
            "Run 4, iteration: 1/100, moves: 35, cost: 239.0\n",
            "Run 4, iteration: 2/100, moves: 16, cost: 239.0\n",
            "Init: initializing centroids\n",
            "Init: initializing clusters\n",
            "Starting iterations...\n",
            "Run 5, iteration: 1/100, moves: 35, cost: 246.0\n",
            "Run 5, iteration: 2/100, moves: 6, cost: 246.0\n",
            "Best run was number 2\n"
          ],
          "name": "stdout"
        }
      ]
    },
    {
      "cell_type": "code",
      "metadata": {
        "id": "jk78t6wGlOAr",
        "colab_type": "code",
        "colab": {}
      },
      "source": [
        "\"CELDA N°10\"\n",
        "#Creamos una nueva columna cluster donde llenamos los valores de los cluster que acabamos de hallar\n",
        "data['cluster'] = clusters"
      ],
      "execution_count": null,
      "outputs": []
    },
    {
      "cell_type": "code",
      "metadata": {
        "id": "KFJDTdMtlt1y",
        "colab_type": "code",
        "colab": {
          "base_uri": "https://localhost:8080/",
          "height": 204
        },
        "outputId": "02510399-5562-4ae3-fb2d-942adf4b94e9"
      },
      "source": [
        "\"CELDA N°11\"\n",
        "#Comprobamos con head si la data ahora cuenta con la nueva columna cluster\n",
        "\n",
        "data.head()\n"
      ],
      "execution_count": null,
      "outputs": [
        {
          "output_type": "execute_result",
          "data": {
            "text/html": [
              "<div>\n",
              "<style scoped>\n",
              "    .dataframe tbody tr th:only-of-type {\n",
              "        vertical-align: middle;\n",
              "    }\n",
              "\n",
              "    .dataframe tbody tr th {\n",
              "        vertical-align: top;\n",
              "    }\n",
              "\n",
              "    .dataframe thead th {\n",
              "        text-align: right;\n",
              "    }\n",
              "</style>\n",
              "<table border=\"1\" class=\"dataframe\">\n",
              "  <thead>\n",
              "    <tr style=\"text-align: right;\">\n",
              "      <th></th>\n",
              "      <th>SEXO</th>\n",
              "      <th>UNIVERSIDAD</th>\n",
              "      <th>PERFIL</th>\n",
              "      <th>CARRERA</th>\n",
              "      <th>POSICION</th>\n",
              "      <th>ESPECIALIZACION_DATA SCIENCE</th>\n",
              "      <th>DIA_PREFERIDO</th>\n",
              "      <th>cluster</th>\n",
              "    </tr>\n",
              "  </thead>\n",
              "  <tbody>\n",
              "    <tr>\n",
              "      <th>0</th>\n",
              "      <td>F</td>\n",
              "      <td>ULIMA</td>\n",
              "      <td>JOVEN</td>\n",
              "      <td>ADMINISTRACION</td>\n",
              "      <td>ANALISTA</td>\n",
              "      <td>NO</td>\n",
              "      <td>SABADO</td>\n",
              "      <td>1</td>\n",
              "    </tr>\n",
              "    <tr>\n",
              "      <th>2</th>\n",
              "      <td>M</td>\n",
              "      <td>OTROS</td>\n",
              "      <td>ADULTO</td>\n",
              "      <td>ADMINISTRACION</td>\n",
              "      <td>OTROS</td>\n",
              "      <td>NO</td>\n",
              "      <td>VIERNES</td>\n",
              "      <td>1</td>\n",
              "    </tr>\n",
              "    <tr>\n",
              "      <th>3</th>\n",
              "      <td>M</td>\n",
              "      <td>OTROS</td>\n",
              "      <td>ADULTO</td>\n",
              "      <td>ADMINISTRACION</td>\n",
              "      <td>OTROS</td>\n",
              "      <td>NO</td>\n",
              "      <td>VIERNES</td>\n",
              "      <td>1</td>\n",
              "    </tr>\n",
              "    <tr>\n",
              "      <th>4</th>\n",
              "      <td>F</td>\n",
              "      <td>SAN MARCOS</td>\n",
              "      <td>JOVEN</td>\n",
              "      <td>CIENCIAS PURAS</td>\n",
              "      <td>ESTUDIANTE</td>\n",
              "      <td>NO</td>\n",
              "      <td>SABADO</td>\n",
              "      <td>3</td>\n",
              "    </tr>\n",
              "    <tr>\n",
              "      <th>5</th>\n",
              "      <td>M</td>\n",
              "      <td>SAN MARCOS</td>\n",
              "      <td>JOVEN</td>\n",
              "      <td>CIENCIAS PURAS</td>\n",
              "      <td>OTROS</td>\n",
              "      <td>NO</td>\n",
              "      <td>SABADO</td>\n",
              "      <td>3</td>\n",
              "    </tr>\n",
              "  </tbody>\n",
              "</table>\n",
              "</div>"
            ],
            "text/plain": [
              "  SEXO UNIVERSIDAD  PERFIL  ... ESPECIALIZACION_DATA SCIENCE DIA_PREFERIDO cluster\n",
              "0    F       ULIMA   JOVEN  ...                           NO        SABADO       1\n",
              "2    M       OTROS  ADULTO  ...                           NO       VIERNES       1\n",
              "3    M       OTROS  ADULTO  ...                           NO       VIERNES       1\n",
              "4    F  SAN MARCOS   JOVEN  ...                           NO        SABADO       3\n",
              "5    M  SAN MARCOS   JOVEN  ...                           NO        SABADO       3\n",
              "\n",
              "[5 rows x 8 columns]"
            ]
          },
          "metadata": {
            "tags": []
          },
          "execution_count": 54
        }
      ]
    }
  ]
}